{
 "cells": [
  {
   "cell_type": "code",
   "execution_count": 1,
   "id": "cfea5d49",
   "metadata": {},
   "outputs": [],
   "source": [
    "import tweepy\n",
    "import configparser"
   ]
  },
  {
   "cell_type": "code",
   "execution_count": 7,
   "id": "57da501e",
   "metadata": {},
   "outputs": [],
   "source": [
    "import pandas as pd"
   ]
  },
  {
   "cell_type": "code",
   "execution_count": 2,
   "id": "93b623d6",
   "metadata": {},
   "outputs": [],
   "source": [
    "config = configparser.ConfigParser()"
   ]
  },
  {
   "cell_type": "code",
   "execution_count": 3,
   "id": "99bef319",
   "metadata": {},
   "outputs": [
    {
     "data": {
      "text/plain": [
       "['config.ini']"
      ]
     },
     "execution_count": 3,
     "metadata": {},
     "output_type": "execute_result"
    }
   ],
   "source": [
    "config.read('config.ini')"
   ]
  },
  {
   "cell_type": "code",
   "execution_count": 4,
   "id": "c3f8be7f",
   "metadata": {},
   "outputs": [],
   "source": [
    "api_key = config['twitter']['api_key']\n",
    "\n",
    "api_key_secret = config['twitter']['api_key_secret']\n",
    "\n",
    "#bearer_token = config['twitter']['bearer_token']\n",
    "\n",
    "access_token = config ['twitter']['access_token']\n",
    "\n",
    "access_token_secret = config['twitter']['access_token_secret']"
   ]
  },
  {
   "cell_type": "code",
   "execution_count": 5,
   "id": "9f6a53b3",
   "metadata": {},
   "outputs": [],
   "source": [
    "auth = tweepy.OAuthHandler(api_key, api_key_secret)\n",
    "auth.set_access_token(access_token, access_token_secret)\n",
    "\n",
    "api = tweepy.API(auth)\n",
    "\n",
    "public_tweets = api.home_timeline()"
   ]
  },
  {
   "cell_type": "code",
   "execution_count": 8,
   "id": "9c678d2d",
   "metadata": {},
   "outputs": [],
   "source": [
    "columns = ['Time', 'User', 'Tweet']\n",
    "data = []\n",
    "for tweet in public_tweets:\n",
    "    data.append([tweet.created_at, tweet.user.screen_name, tweet.text])\n",
    "\n",
    "df = pd.DataFrame(data, columns=columns)\n",
    "\n",
    "df.to_csv('tweets.csv')"
   ]
  },
  {
   "cell_type": "code",
   "execution_count": 43,
   "id": "55c2d3d4",
   "metadata": {},
   "outputs": [
    {
     "data": {
      "text/plain": [
       "'MKBHD'"
      ]
     },
     "execution_count": 43,
     "metadata": {},
     "output_type": "execute_result"
    }
   ],
   "source": [
    "public_tweets[0].user.screen_name"
   ]
  },
  {
   "cell_type": "code",
   "execution_count": 44,
   "id": "aabfd087",
   "metadata": {},
   "outputs": [
    {
     "data": {
      "text/plain": [
       "Status(_api=<tweepy.api.API object at 0x0000022A5ACA59D0>, _json={'created_at': 'Thu Mar 17 13:16:05 +0000 2022', 'id': 1504446473861316612, 'id_str': '1504446473861316612', 'text': \"Mac Studio testing is underway here and let's just say I've had some interesting findings. This video will be worth… https://t.co/mZaeOSJMNp\", 'truncated': True, 'entities': {'hashtags': [], 'symbols': [], 'user_mentions': [], 'urls': [{'url': 'https://t.co/mZaeOSJMNp', 'expanded_url': 'https://twitter.com/i/web/status/1504446473861316612', 'display_url': 'twitter.com/i/web/status/1…', 'indices': [117, 140]}]}, 'source': '<a href=\"http://twitter.com/download/iphone\" rel=\"nofollow\">Twitter for iPhone</a>', 'in_reply_to_status_id': None, 'in_reply_to_status_id_str': None, 'in_reply_to_user_id': None, 'in_reply_to_user_id_str': None, 'in_reply_to_screen_name': None, 'user': {'id': 29873662, 'id_str': '29873662', 'name': 'Marques Brownlee', 'screen_name': 'MKBHD', 'location': 'NYC', 'description': 'Web Video Producer | ⋈ | Pro Ultimate Frisbee Player | Host of @WVFRM @TheStudio', 'url': 'https://t.co/ZktXu6nIYz', 'entities': {'url': {'urls': [{'url': 'https://t.co/ZktXu6nIYz', 'expanded_url': 'http://MKBHD.com', 'display_url': 'MKBHD.com', 'indices': [0, 23]}]}, 'description': {'urls': []}}, 'protected': False, 'followers_count': 5800378, 'friends_count': 425, 'listed_count': 13248, 'created_at': 'Thu Apr 09 00:50:00 +0000 2009', 'favourites_count': 27694, 'utc_offset': None, 'time_zone': None, 'geo_enabled': True, 'verified': True, 'statuses_count': 52407, 'lang': None, 'contributors_enabled': False, 'is_translator': False, 'is_translation_enabled': False, 'profile_background_color': 'EDECE9', 'profile_background_image_url': 'http://abs.twimg.com/images/themes/theme15/bg.png', 'profile_background_image_url_https': 'https://abs.twimg.com/images/themes/theme15/bg.png', 'profile_background_tile': True, 'profile_image_url': 'http://pbs.twimg.com/profile_images/1468001914302390278/B_Xv_8gu_normal.jpg', 'profile_image_url_https': 'https://pbs.twimg.com/profile_images/1468001914302390278/B_Xv_8gu_normal.jpg', 'profile_banner_url': 'https://pbs.twimg.com/profile_banners/29873662/1642786557', 'profile_link_color': '6C4585', 'profile_sidebar_border_color': '000000', 'profile_sidebar_fill_color': 'C0DFEC', 'profile_text_color': '333333', 'profile_use_background_image': False, 'has_extended_profile': False, 'default_profile': False, 'default_profile_image': False, 'following': True, 'follow_request_sent': False, 'notifications': False, 'translator_type': 'regular', 'withheld_in_countries': []}, 'geo': None, 'coordinates': None, 'place': None, 'contributors': None, 'is_quote_status': False, 'retweet_count': 0, 'favorite_count': 0, 'favorited': False, 'retweeted': False, 'possibly_sensitive': False, 'possibly_sensitive_appealable': False, 'lang': 'en'}, created_at=datetime.datetime(2022, 3, 17, 13, 16, 5, tzinfo=datetime.timezone.utc), id=1504446473861316612, id_str='1504446473861316612', text=\"Mac Studio testing is underway here and let's just say I've had some interesting findings. This video will be worth… https://t.co/mZaeOSJMNp\", truncated=True, entities={'hashtags': [], 'symbols': [], 'user_mentions': [], 'urls': [{'url': 'https://t.co/mZaeOSJMNp', 'expanded_url': 'https://twitter.com/i/web/status/1504446473861316612', 'display_url': 'twitter.com/i/web/status/1…', 'indices': [117, 140]}]}, source='Twitter for iPhone', source_url='http://twitter.com/download/iphone', in_reply_to_status_id=None, in_reply_to_status_id_str=None, in_reply_to_user_id=None, in_reply_to_user_id_str=None, in_reply_to_screen_name=None, author=User(_api=<tweepy.api.API object at 0x0000022A5ACA59D0>, _json={'id': 29873662, 'id_str': '29873662', 'name': 'Marques Brownlee', 'screen_name': 'MKBHD', 'location': 'NYC', 'description': 'Web Video Producer | ⋈ | Pro Ultimate Frisbee Player | Host of @WVFRM @TheStudio', 'url': 'https://t.co/ZktXu6nIYz', 'entities': {'url': {'urls': [{'url': 'https://t.co/ZktXu6nIYz', 'expanded_url': 'http://MKBHD.com', 'display_url': 'MKBHD.com', 'indices': [0, 23]}]}, 'description': {'urls': []}}, 'protected': False, 'followers_count': 5800378, 'friends_count': 425, 'listed_count': 13248, 'created_at': 'Thu Apr 09 00:50:00 +0000 2009', 'favourites_count': 27694, 'utc_offset': None, 'time_zone': None, 'geo_enabled': True, 'verified': True, 'statuses_count': 52407, 'lang': None, 'contributors_enabled': False, 'is_translator': False, 'is_translation_enabled': False, 'profile_background_color': 'EDECE9', 'profile_background_image_url': 'http://abs.twimg.com/images/themes/theme15/bg.png', 'profile_background_image_url_https': 'https://abs.twimg.com/images/themes/theme15/bg.png', 'profile_background_tile': True, 'profile_image_url': 'http://pbs.twimg.com/profile_images/1468001914302390278/B_Xv_8gu_normal.jpg', 'profile_image_url_https': 'https://pbs.twimg.com/profile_images/1468001914302390278/B_Xv_8gu_normal.jpg', 'profile_banner_url': 'https://pbs.twimg.com/profile_banners/29873662/1642786557', 'profile_link_color': '6C4585', 'profile_sidebar_border_color': '000000', 'profile_sidebar_fill_color': 'C0DFEC', 'profile_text_color': '333333', 'profile_use_background_image': False, 'has_extended_profile': False, 'default_profile': False, 'default_profile_image': False, 'following': True, 'follow_request_sent': False, 'notifications': False, 'translator_type': 'regular', 'withheld_in_countries': []}, id=29873662, id_str='29873662', name='Marques Brownlee', screen_name='MKBHD', location='NYC', description='Web Video Producer | ⋈ | Pro Ultimate Frisbee Player | Host of @WVFRM @TheStudio', url='https://t.co/ZktXu6nIYz', entities={'url': {'urls': [{'url': 'https://t.co/ZktXu6nIYz', 'expanded_url': 'http://MKBHD.com', 'display_url': 'MKBHD.com', 'indices': [0, 23]}]}, 'description': {'urls': []}}, protected=False, followers_count=5800378, friends_count=425, listed_count=13248, created_at=datetime.datetime(2009, 4, 9, 0, 50, tzinfo=datetime.timezone.utc), favourites_count=27694, utc_offset=None, time_zone=None, geo_enabled=True, verified=True, statuses_count=52407, lang=None, contributors_enabled=False, is_translator=False, is_translation_enabled=False, profile_background_color='EDECE9', profile_background_image_url='http://abs.twimg.com/images/themes/theme15/bg.png', profile_background_image_url_https='https://abs.twimg.com/images/themes/theme15/bg.png', profile_background_tile=True, profile_image_url='http://pbs.twimg.com/profile_images/1468001914302390278/B_Xv_8gu_normal.jpg', profile_image_url_https='https://pbs.twimg.com/profile_images/1468001914302390278/B_Xv_8gu_normal.jpg', profile_banner_url='https://pbs.twimg.com/profile_banners/29873662/1642786557', profile_link_color='6C4585', profile_sidebar_border_color='000000', profile_sidebar_fill_color='C0DFEC', profile_text_color='333333', profile_use_background_image=False, has_extended_profile=False, default_profile=False, default_profile_image=False, following=True, follow_request_sent=False, notifications=False, translator_type='regular', withheld_in_countries=[]), user=User(_api=<tweepy.api.API object at 0x0000022A5ACA59D0>, _json={'id': 29873662, 'id_str': '29873662', 'name': 'Marques Brownlee', 'screen_name': 'MKBHD', 'location': 'NYC', 'description': 'Web Video Producer | ⋈ | Pro Ultimate Frisbee Player | Host of @WVFRM @TheStudio', 'url': 'https://t.co/ZktXu6nIYz', 'entities': {'url': {'urls': [{'url': 'https://t.co/ZktXu6nIYz', 'expanded_url': 'http://MKBHD.com', 'display_url': 'MKBHD.com', 'indices': [0, 23]}]}, 'description': {'urls': []}}, 'protected': False, 'followers_count': 5800378, 'friends_count': 425, 'listed_count': 13248, 'created_at': 'Thu Apr 09 00:50:00 +0000 2009', 'favourites_count': 27694, 'utc_offset': None, 'time_zone': None, 'geo_enabled': True, 'verified': True, 'statuses_count': 52407, 'lang': None, 'contributors_enabled': False, 'is_translator': False, 'is_translation_enabled': False, 'profile_background_color': 'EDECE9', 'profile_background_image_url': 'http://abs.twimg.com/images/themes/theme15/bg.png', 'profile_background_image_url_https': 'https://abs.twimg.com/images/themes/theme15/bg.png', 'profile_background_tile': True, 'profile_image_url': 'http://pbs.twimg.com/profile_images/1468001914302390278/B_Xv_8gu_normal.jpg', 'profile_image_url_https': 'https://pbs.twimg.com/profile_images/1468001914302390278/B_Xv_8gu_normal.jpg', 'profile_banner_url': 'https://pbs.twimg.com/profile_banners/29873662/1642786557', 'profile_link_color': '6C4585', 'profile_sidebar_border_color': '000000', 'profile_sidebar_fill_color': 'C0DFEC', 'profile_text_color': '333333', 'profile_use_background_image': False, 'has_extended_profile': False, 'default_profile': False, 'default_profile_image': False, 'following': True, 'follow_request_sent': False, 'notifications': False, 'translator_type': 'regular', 'withheld_in_countries': []}, id=29873662, id_str='29873662', name='Marques Brownlee', screen_name='MKBHD', location='NYC', description='Web Video Producer | ⋈ | Pro Ultimate Frisbee Player | Host of @WVFRM @TheStudio', url='https://t.co/ZktXu6nIYz', entities={'url': {'urls': [{'url': 'https://t.co/ZktXu6nIYz', 'expanded_url': 'http://MKBHD.com', 'display_url': 'MKBHD.com', 'indices': [0, 23]}]}, 'description': {'urls': []}}, protected=False, followers_count=5800378, friends_count=425, listed_count=13248, created_at=datetime.datetime(2009, 4, 9, 0, 50, tzinfo=datetime.timezone.utc), favourites_count=27694, utc_offset=None, time_zone=None, geo_enabled=True, verified=True, statuses_count=52407, lang=None, contributors_enabled=False, is_translator=False, is_translation_enabled=False, profile_background_color='EDECE9', profile_background_image_url='http://abs.twimg.com/images/themes/theme15/bg.png', profile_background_image_url_https='https://abs.twimg.com/images/themes/theme15/bg.png', profile_background_tile=True, profile_image_url='http://pbs.twimg.com/profile_images/1468001914302390278/B_Xv_8gu_normal.jpg', profile_image_url_https='https://pbs.twimg.com/profile_images/1468001914302390278/B_Xv_8gu_normal.jpg', profile_banner_url='https://pbs.twimg.com/profile_banners/29873662/1642786557', profile_link_color='6C4585', profile_sidebar_border_color='000000', profile_sidebar_fill_color='C0DFEC', profile_text_color='333333', profile_use_background_image=False, has_extended_profile=False, default_profile=False, default_profile_image=False, following=True, follow_request_sent=False, notifications=False, translator_type='regular', withheld_in_countries=[]), geo=None, coordinates=None, place=None, contributors=None, is_quote_status=False, retweet_count=0, favorite_count=0, favorited=False, retweeted=False, possibly_sensitive=False, possibly_sensitive_appealable=False, lang='en')"
      ]
     },
     "execution_count": 44,
     "metadata": {},
     "output_type": "execute_result"
    }
   ],
   "source": [
    "public_tweets[0]"
   ]
  },
  {
   "cell_type": "code",
   "execution_count": null,
   "id": "0720a763",
   "metadata": {},
   "outputs": [],
   "source": []
  }
 ],
 "metadata": {
  "kernelspec": {
   "display_name": "Python 3",
   "language": "python",
   "name": "python3"
  },
  "language_info": {
   "codemirror_mode": {
    "name": "ipython",
    "version": 3
   },
   "file_extension": ".py",
   "mimetype": "text/x-python",
   "name": "python",
   "nbconvert_exporter": "python",
   "pygments_lexer": "ipython3",
   "version": "3.8.3"
  }
 },
 "nbformat": 4,
 "nbformat_minor": 5
}
